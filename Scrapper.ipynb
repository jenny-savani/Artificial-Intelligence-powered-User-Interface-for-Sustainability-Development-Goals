{
  "nbformat": 4,
  "nbformat_minor": 0,
  "metadata": {
    "colab": {
      "name": "Scrapper.ipynb",
      "provenance": []
    },
    "kernelspec": {
      "name": "python3",
      "display_name": "Python 3"
    }
  },
  "cells": [
    {
      "cell_type": "code",
      "metadata": {
        "colab": {
          "base_uri": "https://localhost:8080/",
          "height": 381
        },
        "id": "6rPTsJHbV_xn",
        "outputId": "bd4268a8-8b4f-48e3-d378-63c28c4c02cd"
      },
      "source": [
        "from selenium import webdriver\r\n",
        "from selenium.webdriver.common.keys import Keys\r\n",
        "from selenium.common.exceptions import TimeoutException\r\n",
        "from selenium.webdriver.support.ui import WebDriverWait\r\n",
        "from selenium.webdriver.support import expected_conditions as EC\r\n",
        "from selenium.webdriver.common.by import By\r\n",
        "from bs4 import BeautifulSoup\r\n",
        "import requests\r\n",
        "import pandas as pd\r\n",
        "import time\r\n",
        "from time import sleep\r\n",
        "\r\n",
        "PATH = \"C:\\Program Files\\chromedriver.exe\"\r\n",
        "driver = webdriver.Chrome(PATH)\r\n",
        "\r\n",
        "driver.get(\"https://sustainabledevelopment.un.org/partnership/browse/#\")\r\n",
        "\r\n",
        "driver.maximize_window()\r\n",
        "driver.find_element_by_xpath(\"//*[@id='listing']\")\r\n",
        "html = driver.page_source\r\n",
        "soup = BeautifulSoup(html, 'lxml')\r\n",
        "\r\n",
        "links = soup.find_all('a', class_=\"title\", href=True)\r\n",
        "\r\n",
        "\r\n",
        "for i in range(8, 26):\r\n",
        "    try:\r\n",
        "        top = driver.find_element_by_class_name('top')\r\n",
        "        driver.execute_script('arguments[0].hidden=\"true\";', top)\r\n",
        "        header = driver.find_element_by_id('topBarArea')\r\n",
        "        driver.execute_script('arguments[0].hidden=\"true\";', header)\r\n",
        "        element = WebDriverWait(driver, 10).until(\r\n",
        "            EC.presence_of_element_located((By.XPATH, \"//*[@id='listing']/div[\" + str(i) + \"]/a/div[3]/div[2]\"))\r\n",
        "        )\r\n",
        "        driver.execute_script(\"arguments[0].scrollIntoView();\", element)\r\n",
        "        # driver.find_element_by_tag_name('body').send_keys(Keys.UP)\r\n",
        "        #driver.execute_script(\"return arguments[0].scrollIntoView(true);\", element)\r\n",
        "        element.click()\r\n",
        "    except:\r\n",
        "        driver.quit()\r\n",
        "    try:\r\n",
        "        element = WebDriverWait(driver, 3).until(\r\n",
        "            EC.presence_of_element_located((By.XPATH, \"//*[@id='intro']/div\"))\r\n",
        "        )\r\n",
        "        print(element.text)\r\n",
        "    except NoSuchElementException:\r\n",
        "        driver.back()\r\n",
        "   \r\n",
        "    element = WebDriverWait(driver, 10).until(\r\n",
        "        EC.presence_of_element_located((By.XPATH, '/html/body/div[4]/div/div/div[2]/div/div/div[1]/ul/li[2]/a'))\r\n",
        "    )\r\n",
        "    element.click()\r\n",
        "    element = WebDriverWait(driver, 3).until(\r\n",
        "        EC.presence_of_element_located((By.XPATH, \"//*[@id='targets']\"))\r\n",
        "    )\r\n",
        "    print(element.text)\r\n",
        "\r\n",
        "\r\n",
        "    driver.back()\r\n",
        "\r\n",
        "element = driver.find_element_by_id(\"theMoreButton\")\r\n",
        "driver.execute_script(\"return arguments[0].scrollIntoView(true);\", element)\r\n",
        "element.click()\r\n",
        "for i in range(26, 30):\r\n",
        "    # # print(link['href'])\r\n",
        "    # try:\r\n",
        "    element = WebDriverWait(driver, 10).until(\r\n",
        "        EC.presence_of_element_located((By.XPATH, \"//*[@id='listing']/div[\" + str(i) + \"]/a/div[3]/div[2]\"))\r\n",
        "    )\r\n",
        "    element.click()\r\n",
        "    element = WebDriverWait(driver, 3).until(\r\n",
        "        EC.presence_of_element_located((By.ID, \"intro\"))\r\n",
        "    )\r\n",
        "    print(element.text)\r\n",
        "    element = WebDriverWait(driver, 10).until(\r\n",
        "        EC.presence_of_element_located((By.XPATH, '/html/body/div[4]/div/div/div[2]/div/div/div[1]/ul/li[2]/a'))\r\n",
        "    )\r\n",
        "    element.click()\r\n",
        "    element = WebDriverWait(driver, 3).until(\r\n",
        "        EC.presence_of_element_located((By.XPATH, \"//*[@id='targets']\"))\r\n",
        "    )\r\n",
        "    print(element.text)\r\n",
        "\r\n",
        "    driver.back()"
      ],
      "execution_count": null,
      "outputs": [
        {
          "output_type": "error",
          "ename": "ModuleNotFoundError",
          "evalue": "ignored",
          "traceback": [
            "\u001b[0;31m---------------------------------------------------------------------------\u001b[0m",
            "\u001b[0;31mModuleNotFoundError\u001b[0m                       Traceback (most recent call last)",
            "\u001b[0;32m<ipython-input-2-65359b9953dd>\u001b[0m in \u001b[0;36m<module>\u001b[0;34m()\u001b[0m\n\u001b[0;32m----> 1\u001b[0;31m \u001b[0;32mfrom\u001b[0m \u001b[0mselenium\u001b[0m \u001b[0;32mimport\u001b[0m \u001b[0mwebdriver\u001b[0m\u001b[0;34m\u001b[0m\u001b[0;34m\u001b[0m\u001b[0m\n\u001b[0m\u001b[1;32m      2\u001b[0m \u001b[0;32mfrom\u001b[0m \u001b[0mselenium\u001b[0m\u001b[0;34m.\u001b[0m\u001b[0mwebdriver\u001b[0m\u001b[0;34m.\u001b[0m\u001b[0mcommon\u001b[0m\u001b[0;34m.\u001b[0m\u001b[0mkeys\u001b[0m \u001b[0;32mimport\u001b[0m \u001b[0mKeys\u001b[0m\u001b[0;34m\u001b[0m\u001b[0;34m\u001b[0m\u001b[0m\n\u001b[1;32m      3\u001b[0m \u001b[0;32mfrom\u001b[0m \u001b[0mselenium\u001b[0m\u001b[0;34m.\u001b[0m\u001b[0mcommon\u001b[0m\u001b[0;34m.\u001b[0m\u001b[0mexceptions\u001b[0m \u001b[0;32mimport\u001b[0m \u001b[0mTimeoutException\u001b[0m\u001b[0;34m\u001b[0m\u001b[0;34m\u001b[0m\u001b[0m\n\u001b[1;32m      4\u001b[0m \u001b[0;32mfrom\u001b[0m \u001b[0mselenium\u001b[0m\u001b[0;34m.\u001b[0m\u001b[0mwebdriver\u001b[0m\u001b[0;34m.\u001b[0m\u001b[0msupport\u001b[0m\u001b[0;34m.\u001b[0m\u001b[0mui\u001b[0m \u001b[0;32mimport\u001b[0m \u001b[0mWebDriverWait\u001b[0m\u001b[0;34m\u001b[0m\u001b[0;34m\u001b[0m\u001b[0m\n\u001b[1;32m      5\u001b[0m \u001b[0;32mfrom\u001b[0m \u001b[0mselenium\u001b[0m\u001b[0;34m.\u001b[0m\u001b[0mwebdriver\u001b[0m\u001b[0;34m.\u001b[0m\u001b[0msupport\u001b[0m \u001b[0;32mimport\u001b[0m \u001b[0mexpected_conditions\u001b[0m \u001b[0;32mas\u001b[0m \u001b[0mEC\u001b[0m\u001b[0;34m\u001b[0m\u001b[0;34m\u001b[0m\u001b[0m\n",
            "\u001b[0;31mModuleNotFoundError\u001b[0m: No module named 'selenium'",
            "",
            "\u001b[0;31m---------------------------------------------------------------------------\u001b[0;32m\nNOTE: If your import is failing due to a missing package, you can\nmanually install dependencies using either !pip or !apt.\n\nTo view examples of installing some common dependencies, click the\n\"Open Examples\" button below.\n\u001b[0;31m---------------------------------------------------------------------------\u001b[0m\n"
          ]
        }
      ]
    }
  ]
}